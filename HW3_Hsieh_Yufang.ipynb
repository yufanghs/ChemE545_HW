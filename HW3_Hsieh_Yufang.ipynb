{
  "metadata": {
    "kernelspec": {
      "name": "python",
      "display_name": "Python (Pyodide)",
      "language": "python"
    },
    "language_info": {
      "codemirror_mode": {
        "name": "python",
        "version": 3
      },
      "file_extension": ".py",
      "mimetype": "text/x-python",
      "name": "python",
      "nbconvert_exporter": "python",
      "pygments_lexer": "ipython3",
      "version": "3.8"
    },
    "colab": {
      "provenance": []
    }
  },
  "nbformat_minor": 4,
  "nbformat": 4,
  "cells": [
    {
      "cell_type": "markdown",
      "source": "# HW 3 ( 20 points)",
      "metadata": {}
    },
    {
      "cell_type": "markdown",
      "source": "Submit your homework as a. ipynb file. Use the format 'HW3_LastName_FirstName.ipynb'. If there are no comments/markdown describing what you have done, your work will not be graded. Follow the code of conduct.",
      "metadata": {}
    },
    {
      "cell_type": "markdown",
      "source": "## Problem 1: Hypothesis testing (10 points)\n\nThere is a chemical reactor in a refinery. There are a couple of temperature sensors that operator can observe. First temperature sensor is in the room where the reactor is located. Second temperature sensor is in the reactor itself. Is there a statistical difference between the values of two sensors? Temperatures of both the sensors are given below:\n\n| Time points | Room sensor | Reactor sensor |\n|---|---|---|\n| 1 | 19 | 22 |\n| 2 | 19 | 16 |\n| 3 | 36 | 39 |\n| 4 | 42 | 42 |\n| 5 | 41 | 46 |\n| 6 | 28 | 25 |\n| 7 | 44 | 42 |\n| 8 | 51 | 48 |\n| 9 | 50 | 50 |\n| 10 | 42 | 41 |\n| 11 | 25 | 27 |\n| 12 | 35 | 32 |\n| 13 | 40 | 41 |\n| 14 | 52 | 51 |\n| 15 | 74 | 73 |\n\n\n\n*   What is the hypothesis?\n*   What is the test statistic?\n*   What is the p-value?\n* What is the conclusion\n",
      "metadata": {
        "id": "dx99DlP17Ho0"
      }
    },
    {
      "cell_type": "markdown",
      "source": "### (a) What is the hypothesis?\n\n#### Null Hypothesis (H0): There is no significant difference between the temperature readings from the room sensor and the reactor sensor. That is, the mean difference between paired measurements is zero.\n𝐻0: 𝜇𝑑 = 0\n\n#### Alternative Hypothesis (HA): There is a significant difference between the temperature readings.\n𝐻𝐴: 𝜇𝑑 ≠ 0\n\nwhere is the mean difference between paired measurements.\n\n",
      "metadata": {
        "id": "7w86yjwQ6q7U"
      }
    },
    {
      "cell_type": "markdown",
      "source": "### (b) What is the test statistic?\n",
      "metadata": {}
    },
    {
      "cell_type": "code",
      "source": "import numpy as np\nfrom scipy import stats\n\n# Temperature readings\nroom_sensor = np.array([19, 19, 36, 42, 41, 28, 44, 51, 50, 42, 25, 35, 40, 52, 74])\nreactor_sensor = np.array([22, 16, 39, 42, 46, 25, 42, 48, 50, 41, 27, 32, 41, 51, 73])\n\n# Compute differences\ndifferences = room_sensor - reactor_sensor\n\n# Calculate mean and standard deviation of differences\nmean_diff = np.mean(differences)\nstd_diff = np.std(differences, ddof=1)  # Sample standard deviation\nn = len(differences)\n\n# Compute t-statistic\nt_stat = mean_diff / (std_diff / np.sqrt(n))\n\n# Print results\nprint(f\"Mean difference: {mean_diff:.2f}\")\nprint(f\"Standard deviation of differences: {std_diff:.2f}\")\nprint(f\"Sample size (n): {n}\")\nprint(f\"T-statistic: {t_stat:.3f}\")\n\n",
      "metadata": {
        "trusted": true
      },
      "outputs": [
        {
          "name": "stdout",
          "output_type": "stream",
          "text": "Mean difference: 0.20\nStandard deviation of differences: 2.54\nSample size (n): 15\nT-statistic: 0.305\n"
        }
      ],
      "execution_count": 1
    },
    {
      "cell_type": "markdown",
      "source": "### (c) What is the p-value?",
      "metadata": {}
    },
    {
      "cell_type": "code",
      "source": "# Perform paired t-test\nt_stat, p_value = stats.ttest_rel(room_sensor, reactor_sensor)\n\n# Print results\nprint(f\"P-value: {p_value:.3f}\")",
      "metadata": {
        "trusted": true
      },
      "outputs": [
        {
          "name": "stdout",
          "output_type": "stream",
          "text": "P-value: 0.765\n"
        }
      ],
      "execution_count": 2
    },
    {
      "cell_type": "markdown",
      "source": "### (D) What is the conclusion?\n\nAt a common significance level of \nα=0.05, we compare the p-value:\n\nSince p-value (0.765) > 0.05, we fail to reject the null hypothesis.\nConclusion: There is no statistically significant difference between the temperatures recorded by the room sensor and the reactor sensor. The observed differences could be due to random variation.",
      "metadata": {}
    },
    {
      "cell_type": "markdown",
      "source": "## Problem 2: Data Science on your own research data (10 points)\n\nChoose any research data that you have used or any data that is relevant to your research.\n* Describe the data set. Is the data set continuous or categorical or a combination of both?\n*  How can supervised or unsupervised machine learning enhance your conclusions/understanding of the dataset? ?\n* Implement linear regression be applied to the dataset. Report and discuss the results",
      "metadata": {
        "id": "RBDmZIsR9qdP"
      }
    },
    {
      "cell_type": "markdown",
      "source": "### Source of dataset:\nhttps://www.kaggle.com/datasets/burakhmmtgl/energy-molecule\n(I do not have my own data now.)\n\n### (a) Describe the data set. Is the data set continuous or categorical or a combination of both?\n**The data combine both categorical and continuous variables**\nThe dataset contains 1277 columns. The first 1275 columns are entries in the Coulomb matrix that act as molecular features. The 1276th column is the Pubchem Id where the molecular structures are obtained. The 1277th column is the atomization energy calculated by simulations using the Quantum Espresso package.\n\nIn the csv file, the first column (X1) is the data index and unused.",
      "metadata": {
        "jp-MarkdownHeadingCollapsed": true
      }
    },
    {
      "cell_type": "markdown",
      "source": "### (b) How can supervised or unsupervised machine learning enhance your conclusions/understanding of the dataset?\nUsing supervised learning, we can model the relationship between atomic properties and molecular energy, leading to better predictions for new molecules.\n\n**Supervised Learning Approaches**\nRegression (Linear Regression, Random Forest, Neural Networks)\n- Predict potential energy based on molecular structure.\n- Predict scalar coupling constant, which is crucial in understanding molecular interactions.\nClassification (Decision Trees, SVM, Logistic Regression)\n-Categorize molecules based on their interaction types.\n-Identify high-energy vs. low-energy molecules.\n\n**Unsupervised Learning Approaches**\nClustering (K-Means, DBSCAN)\n- Group molecules with similar energy levels.\n- Identify hidden patterns in molecular interactions.\nDimensionality Reduction (PCA, t-SNE)\n- Reduce complexity in molecular feature space.\n- Improve visualization and feature selection.",
      "metadata": {}
    },
    {
      "cell_type": "markdown",
      "source": "### (c) Implement linear regression be applied to the dataset. Report and discuss the results",
      "metadata": {}
    },
    {
      "cell_type": "markdown",
      "source": "- Load the  data and do preprocessing ",
      "metadata": {}
    },
    {
      "cell_type": "code",
      "source": "import pandas as pd\nimport numpy as np\nimport matplotlib.pyplot as plt\nfrom sklearn.model_selection import train_test_split\nfrom sklearn.linear_model import LinearRegression\nfrom sklearn.metrics import mean_squared_error, r2_score\nfrom sklearn.decomposition import PCA\nfrom sklearn.preprocessing import StandardScaler\n\n# Load dataset\ndata = pd.read_csv(\"molecule.csv\")  # Ensure the file is downloaded\n\n# Drop the first column. In the csv file, the first column (X1) is the data index and unused.\ndata = data.drop(data.columns[0], axis=1)\n\n# Drop rows with missing values\ndata = data.dropna()\n\n# Separate features (X) and target (Y)\nX = data.iloc[:, 0:1274]  # First 1275 columns are entries in the Coulomb matrix that act as molecular features\nId = data.iloc[:, 1275]   # The 1276th column is the Pubchem Id where the molecular structures are obtained.\nY = data.iloc[:, 1276]    # The 1277th column is the atomization energy calculated by simulations using the Quantum Espresso package.",
      "metadata": {
        "trusted": true,
        "scrolled": true
      },
      "outputs": [
        {
          "name": "stderr",
          "output_type": "stream",
          "text": "Matplotlib is building the font cache; this may take a moment.\n"
        }
      ],
      "execution_count": 3
    },
    {
      "cell_type": "markdown",
      "source": "- Since 1275 features are too much, we reduced the features before applying PCA",
      "metadata": {}
    },
    {
      "cell_type": "code",
      "source": "# Scale the features before applying PCA\nscaler = StandardScaler()\nX_scaled = scaler.fit_transform(X)\n\n# Apply PCA - reduce the dimensions to a smaller number\npca = PCA(n_components=5)  # 5 components can capture > 90% variance\nX_pca = pca.fit_transform(X_scaled)\n\n# Explained variance ratio to understand how much information each component retains\nprint(f'Total explained variance by first 5 components: {sum(pca.explained_variance_ratio_):.2f}')",
      "metadata": {
        "trusted": true
      },
      "outputs": [
        {
          "name": "stdout",
          "output_type": "stream",
          "text": "Total explained variance by first 5 components: 0.91\n"
        }
      ],
      "execution_count": 4
    },
    {
      "cell_type": "markdown",
      "source": "- Split the data and train the Linear Regression Model",
      "metadata": {}
    },
    {
      "cell_type": "code",
      "source": "# Split the PCA-transformed data into training and testing sets\nX_train, X_test, Y_train, Y_test = train_test_split(X_pca, Y, test_size=0.2, random_state=42)\n\n# Initialize the linear regression model\nmodel = LinearRegression()\n\n# Train the model with the PCA-transformed training data\nmodel.fit(X_train, Y_train)",
      "metadata": {
        "trusted": true
      },
      "outputs": [
        {
          "execution_count": 5,
          "output_type": "execute_result",
          "data": {
            "text/plain": "LinearRegression()",
            "text/html": "<style>#sk-container-id-1 {\n  /* Definition of color scheme common for light and dark mode */\n  --sklearn-color-text: black;\n  --sklearn-color-line: gray;\n  /* Definition of color scheme for unfitted estimators */\n  --sklearn-color-unfitted-level-0: #fff5e6;\n  --sklearn-color-unfitted-level-1: #f6e4d2;\n  --sklearn-color-unfitted-level-2: #ffe0b3;\n  --sklearn-color-unfitted-level-3: chocolate;\n  /* Definition of color scheme for fitted estimators */\n  --sklearn-color-fitted-level-0: #f0f8ff;\n  --sklearn-color-fitted-level-1: #d4ebff;\n  --sklearn-color-fitted-level-2: #b3dbfd;\n  --sklearn-color-fitted-level-3: cornflowerblue;\n\n  /* Specific color for light theme */\n  --sklearn-color-text-on-default-background: var(--sg-text-color, var(--theme-code-foreground, var(--jp-content-font-color1, black)));\n  --sklearn-color-background: var(--sg-background-color, var(--theme-background, var(--jp-layout-color0, white)));\n  --sklearn-color-border-box: var(--sg-text-color, var(--theme-code-foreground, var(--jp-content-font-color1, black)));\n  --sklearn-color-icon: #696969;\n\n  @media (prefers-color-scheme: dark) {\n    /* Redefinition of color scheme for dark theme */\n    --sklearn-color-text-on-default-background: var(--sg-text-color, var(--theme-code-foreground, var(--jp-content-font-color1, white)));\n    --sklearn-color-background: var(--sg-background-color, var(--theme-background, var(--jp-layout-color0, #111)));\n    --sklearn-color-border-box: var(--sg-text-color, var(--theme-code-foreground, var(--jp-content-font-color1, white)));\n    --sklearn-color-icon: #878787;\n  }\n}\n\n#sk-container-id-1 {\n  color: var(--sklearn-color-text);\n}\n\n#sk-container-id-1 pre {\n  padding: 0;\n}\n\n#sk-container-id-1 input.sk-hidden--visually {\n  border: 0;\n  clip: rect(1px 1px 1px 1px);\n  clip: rect(1px, 1px, 1px, 1px);\n  height: 1px;\n  margin: -1px;\n  overflow: hidden;\n  padding: 0;\n  position: absolute;\n  width: 1px;\n}\n\n#sk-container-id-1 div.sk-dashed-wrapped {\n  border: 1px dashed var(--sklearn-color-line);\n  margin: 0 0.4em 0.5em 0.4em;\n  box-sizing: border-box;\n  padding-bottom: 0.4em;\n  background-color: var(--sklearn-color-background);\n}\n\n#sk-container-id-1 div.sk-container {\n  /* jupyter's `normalize.less` sets `[hidden] { display: none; }`\n     but bootstrap.min.css set `[hidden] { display: none !important; }`\n     so we also need the `!important` here to be able to override the\n     default hidden behavior on the sphinx rendered scikit-learn.org.\n     See: https://github.com/scikit-learn/scikit-learn/issues/21755 */\n  display: inline-block !important;\n  position: relative;\n}\n\n#sk-container-id-1 div.sk-text-repr-fallback {\n  display: none;\n}\n\ndiv.sk-parallel-item,\ndiv.sk-serial,\ndiv.sk-item {\n  /* draw centered vertical line to link estimators */\n  background-image: linear-gradient(var(--sklearn-color-text-on-default-background), var(--sklearn-color-text-on-default-background));\n  background-size: 2px 100%;\n  background-repeat: no-repeat;\n  background-position: center center;\n}\n\n/* Parallel-specific style estimator block */\n\n#sk-container-id-1 div.sk-parallel-item::after {\n  content: \"\";\n  width: 100%;\n  border-bottom: 2px solid var(--sklearn-color-text-on-default-background);\n  flex-grow: 1;\n}\n\n#sk-container-id-1 div.sk-parallel {\n  display: flex;\n  align-items: stretch;\n  justify-content: center;\n  background-color: var(--sklearn-color-background);\n  position: relative;\n}\n\n#sk-container-id-1 div.sk-parallel-item {\n  display: flex;\n  flex-direction: column;\n}\n\n#sk-container-id-1 div.sk-parallel-item:first-child::after {\n  align-self: flex-end;\n  width: 50%;\n}\n\n#sk-container-id-1 div.sk-parallel-item:last-child::after {\n  align-self: flex-start;\n  width: 50%;\n}\n\n#sk-container-id-1 div.sk-parallel-item:only-child::after {\n  width: 0;\n}\n\n/* Serial-specific style estimator block */\n\n#sk-container-id-1 div.sk-serial {\n  display: flex;\n  flex-direction: column;\n  align-items: center;\n  background-color: var(--sklearn-color-background);\n  padding-right: 1em;\n  padding-left: 1em;\n}\n\n\n/* Toggleable style: style used for estimator/Pipeline/ColumnTransformer box that is\nclickable and can be expanded/collapsed.\n- Pipeline and ColumnTransformer use this feature and define the default style\n- Estimators will overwrite some part of the style using the `sk-estimator` class\n*/\n\n/* Pipeline and ColumnTransformer style (default) */\n\n#sk-container-id-1 div.sk-toggleable {\n  /* Default theme specific background. It is overwritten whether we have a\n  specific estimator or a Pipeline/ColumnTransformer */\n  background-color: var(--sklearn-color-background);\n}\n\n/* Toggleable label */\n#sk-container-id-1 label.sk-toggleable__label {\n  cursor: pointer;\n  display: block;\n  width: 100%;\n  margin-bottom: 0;\n  padding: 0.5em;\n  box-sizing: border-box;\n  text-align: center;\n}\n\n#sk-container-id-1 label.sk-toggleable__label-arrow:before {\n  /* Arrow on the left of the label */\n  content: \"▸\";\n  float: left;\n  margin-right: 0.25em;\n  color: var(--sklearn-color-icon);\n}\n\n#sk-container-id-1 label.sk-toggleable__label-arrow:hover:before {\n  color: var(--sklearn-color-text);\n}\n\n/* Toggleable content - dropdown */\n\n#sk-container-id-1 div.sk-toggleable__content {\n  max-height: 0;\n  max-width: 0;\n  overflow: hidden;\n  text-align: left;\n  /* unfitted */\n  background-color: var(--sklearn-color-unfitted-level-0);\n}\n\n#sk-container-id-1 div.sk-toggleable__content.fitted {\n  /* fitted */\n  background-color: var(--sklearn-color-fitted-level-0);\n}\n\n#sk-container-id-1 div.sk-toggleable__content pre {\n  margin: 0.2em;\n  border-radius: 0.25em;\n  color: var(--sklearn-color-text);\n  /* unfitted */\n  background-color: var(--sklearn-color-unfitted-level-0);\n}\n\n#sk-container-id-1 div.sk-toggleable__content.fitted pre {\n  /* unfitted */\n  background-color: var(--sklearn-color-fitted-level-0);\n}\n\n#sk-container-id-1 input.sk-toggleable__control:checked~div.sk-toggleable__content {\n  /* Expand drop-down */\n  max-height: 200px;\n  max-width: 100%;\n  overflow: auto;\n}\n\n#sk-container-id-1 input.sk-toggleable__control:checked~label.sk-toggleable__label-arrow:before {\n  content: \"▾\";\n}\n\n/* Pipeline/ColumnTransformer-specific style */\n\n#sk-container-id-1 div.sk-label input.sk-toggleable__control:checked~label.sk-toggleable__label {\n  color: var(--sklearn-color-text);\n  background-color: var(--sklearn-color-unfitted-level-2);\n}\n\n#sk-container-id-1 div.sk-label.fitted input.sk-toggleable__control:checked~label.sk-toggleable__label {\n  background-color: var(--sklearn-color-fitted-level-2);\n}\n\n/* Estimator-specific style */\n\n/* Colorize estimator box */\n#sk-container-id-1 div.sk-estimator input.sk-toggleable__control:checked~label.sk-toggleable__label {\n  /* unfitted */\n  background-color: var(--sklearn-color-unfitted-level-2);\n}\n\n#sk-container-id-1 div.sk-estimator.fitted input.sk-toggleable__control:checked~label.sk-toggleable__label {\n  /* fitted */\n  background-color: var(--sklearn-color-fitted-level-2);\n}\n\n#sk-container-id-1 div.sk-label label.sk-toggleable__label,\n#sk-container-id-1 div.sk-label label {\n  /* The background is the default theme color */\n  color: var(--sklearn-color-text-on-default-background);\n}\n\n/* On hover, darken the color of the background */\n#sk-container-id-1 div.sk-label:hover label.sk-toggleable__label {\n  color: var(--sklearn-color-text);\n  background-color: var(--sklearn-color-unfitted-level-2);\n}\n\n/* Label box, darken color on hover, fitted */\n#sk-container-id-1 div.sk-label.fitted:hover label.sk-toggleable__label.fitted {\n  color: var(--sklearn-color-text);\n  background-color: var(--sklearn-color-fitted-level-2);\n}\n\n/* Estimator label */\n\n#sk-container-id-1 div.sk-label label {\n  font-family: monospace;\n  font-weight: bold;\n  display: inline-block;\n  line-height: 1.2em;\n}\n\n#sk-container-id-1 div.sk-label-container {\n  text-align: center;\n}\n\n/* Estimator-specific */\n#sk-container-id-1 div.sk-estimator {\n  font-family: monospace;\n  border: 1px dotted var(--sklearn-color-border-box);\n  border-radius: 0.25em;\n  box-sizing: border-box;\n  margin-bottom: 0.5em;\n  /* unfitted */\n  background-color: var(--sklearn-color-unfitted-level-0);\n}\n\n#sk-container-id-1 div.sk-estimator.fitted {\n  /* fitted */\n  background-color: var(--sklearn-color-fitted-level-0);\n}\n\n/* on hover */\n#sk-container-id-1 div.sk-estimator:hover {\n  /* unfitted */\n  background-color: var(--sklearn-color-unfitted-level-2);\n}\n\n#sk-container-id-1 div.sk-estimator.fitted:hover {\n  /* fitted */\n  background-color: var(--sklearn-color-fitted-level-2);\n}\n\n/* Specification for estimator info (e.g. \"i\" and \"?\") */\n\n/* Common style for \"i\" and \"?\" */\n\n.sk-estimator-doc-link,\na:link.sk-estimator-doc-link,\na:visited.sk-estimator-doc-link {\n  float: right;\n  font-size: smaller;\n  line-height: 1em;\n  font-family: monospace;\n  background-color: var(--sklearn-color-background);\n  border-radius: 1em;\n  height: 1em;\n  width: 1em;\n  text-decoration: none !important;\n  margin-left: 1ex;\n  /* unfitted */\n  border: var(--sklearn-color-unfitted-level-1) 1pt solid;\n  color: var(--sklearn-color-unfitted-level-1);\n}\n\n.sk-estimator-doc-link.fitted,\na:link.sk-estimator-doc-link.fitted,\na:visited.sk-estimator-doc-link.fitted {\n  /* fitted */\n  border: var(--sklearn-color-fitted-level-1) 1pt solid;\n  color: var(--sklearn-color-fitted-level-1);\n}\n\n/* On hover */\ndiv.sk-estimator:hover .sk-estimator-doc-link:hover,\n.sk-estimator-doc-link:hover,\ndiv.sk-label-container:hover .sk-estimator-doc-link:hover,\n.sk-estimator-doc-link:hover {\n  /* unfitted */\n  background-color: var(--sklearn-color-unfitted-level-3);\n  color: var(--sklearn-color-background);\n  text-decoration: none;\n}\n\ndiv.sk-estimator.fitted:hover .sk-estimator-doc-link.fitted:hover,\n.sk-estimator-doc-link.fitted:hover,\ndiv.sk-label-container:hover .sk-estimator-doc-link.fitted:hover,\n.sk-estimator-doc-link.fitted:hover {\n  /* fitted */\n  background-color: var(--sklearn-color-fitted-level-3);\n  color: var(--sklearn-color-background);\n  text-decoration: none;\n}\n\n/* Span, style for the box shown on hovering the info icon */\n.sk-estimator-doc-link span {\n  display: none;\n  z-index: 9999;\n  position: relative;\n  font-weight: normal;\n  right: .2ex;\n  padding: .5ex;\n  margin: .5ex;\n  width: min-content;\n  min-width: 20ex;\n  max-width: 50ex;\n  color: var(--sklearn-color-text);\n  box-shadow: 2pt 2pt 4pt #999;\n  /* unfitted */\n  background: var(--sklearn-color-unfitted-level-0);\n  border: .5pt solid var(--sklearn-color-unfitted-level-3);\n}\n\n.sk-estimator-doc-link.fitted span {\n  /* fitted */\n  background: var(--sklearn-color-fitted-level-0);\n  border: var(--sklearn-color-fitted-level-3);\n}\n\n.sk-estimator-doc-link:hover span {\n  display: block;\n}\n\n/* \"?\"-specific style due to the `<a>` HTML tag */\n\n#sk-container-id-1 a.estimator_doc_link {\n  float: right;\n  font-size: 1rem;\n  line-height: 1em;\n  font-family: monospace;\n  background-color: var(--sklearn-color-background);\n  border-radius: 1rem;\n  height: 1rem;\n  width: 1rem;\n  text-decoration: none;\n  /* unfitted */\n  color: var(--sklearn-color-unfitted-level-1);\n  border: var(--sklearn-color-unfitted-level-1) 1pt solid;\n}\n\n#sk-container-id-1 a.estimator_doc_link.fitted {\n  /* fitted */\n  border: var(--sklearn-color-fitted-level-1) 1pt solid;\n  color: var(--sklearn-color-fitted-level-1);\n}\n\n/* On hover */\n#sk-container-id-1 a.estimator_doc_link:hover {\n  /* unfitted */\n  background-color: var(--sklearn-color-unfitted-level-3);\n  color: var(--sklearn-color-background);\n  text-decoration: none;\n}\n\n#sk-container-id-1 a.estimator_doc_link.fitted:hover {\n  /* fitted */\n  background-color: var(--sklearn-color-fitted-level-3);\n}\n</style><div id=\"sk-container-id-1\" class=\"sk-top-container\"><div class=\"sk-text-repr-fallback\"><pre>LinearRegression()</pre><b>In a Jupyter environment, please rerun this cell to show the HTML representation or trust the notebook. <br />On GitHub, the HTML representation is unable to render, please try loading this page with nbviewer.org.</b></div><div class=\"sk-container\" hidden><div class=\"sk-item\"><div class=\"sk-estimator fitted sk-toggleable\"><input class=\"sk-toggleable__control sk-hidden--visually\" id=\"sk-estimator-id-1\" type=\"checkbox\" checked><label for=\"sk-estimator-id-1\" class=\"sk-toggleable__label fitted sk-toggleable__label-arrow fitted\">&nbsp;&nbsp;LinearRegression<a class=\"sk-estimator-doc-link fitted\" rel=\"noreferrer\" target=\"_blank\" href=\"https://scikit-learn.org/1.5/modules/generated/sklearn.linear_model.LinearRegression.html\">?<span>Documentation for LinearRegression</span></a><span class=\"sk-estimator-doc-link fitted\">i<span>Fitted</span></span></label><div class=\"sk-toggleable__content fitted\"><pre>LinearRegression()</pre></div> </div></div></div></div>"
          },
          "metadata": {}
        }
      ],
      "execution_count": 5
    },
    {
      "cell_type": "markdown",
      "source": "- Evaluate the Model ",
      "metadata": {}
    },
    {
      "cell_type": "code",
      "source": "# Predict on the test set\nY_pred = model.predict(X_test)\n\n# Calculate Mean Squared Error (MSE)\nmse = mean_squared_error(Y_test, Y_pred)\n\n# Calculate R-squared (R²)\nr2 = r2_score(Y_test, Y_pred)\n\nprint(f'Mean Squared Error: {mse:.2f}')\nprint(f'R-squared: {r2:.2f}')\n\n# Print out Y statistics to compare with the results\nprint(f'Y_min: {Y.min()}, Y_max: {Y.max()}')\nprint(f'Y_mean: {Y.mean()}, Y_std: {Y.std()}')\n",
      "metadata": {
        "trusted": true
      },
      "outputs": [
        {
          "name": "stdout",
          "output_type": "stream",
          "text": "Mean Squared Error: 2.41\nR-squared: 0.84\nY_min: -23.214579159999914, Y_max: -0.8177906099999959\nY_mean: -11.878812676082875, Y_std: 3.769399861191056\n"
        }
      ],
      "execution_count": 6
    },
    {
      "cell_type": "markdown",
      "source": "### Disccusion\n\n\n- mse/(Y_max - Y_min)^2 = 0.48% --> MSE is only ~0.48% of the squared range of Y, error is quite small compared to the total spread of Y values.\n   \n- mse/(Y_std)^2 = 17% --> MSE is about 17% of the variance in Y, meaning the model's errors are much smaller than the natural spread of Y.\n\n- With R² = 0.84, the model explains 84% of the variance in Y, which is strong. This confirms that PCA retained enough important features, and linear regression is doing well. \n   ",
      "metadata": {}
    }
  ]
}