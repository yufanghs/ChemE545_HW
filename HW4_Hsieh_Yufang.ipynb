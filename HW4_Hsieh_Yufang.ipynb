{
  "metadata": {
    "kernelspec": {
      "name": "python",
      "display_name": "Python (Pyodide)",
      "language": "python"
    },
    "language_info": {
      "codemirror_mode": {
        "name": "python",
        "version": 3
      },
      "file_extension": ".py",
      "mimetype": "text/x-python",
      "name": "python",
      "nbconvert_exporter": "python",
      "pygments_lexer": "ipython3",
      "version": "3.8"
    },
    "colab": {
      "provenance": []
    }
  },
  "nbformat_minor": 4,
  "nbformat": 4,
  "cells": [
    {
      "cell_type": "markdown",
      "source": "## HW 4 ( 40 points)",
      "metadata": {}
    },
    {
      "cell_type": "markdown",
      "source": "Submit your homework as a .ipynb file. Use the format 'HW4_LastName_FirstName.ipynb'. If there are no comments/markdown describing what you have done, your work will not be graded. Follow the code of conduct.",
      "metadata": {}
    },
    {
      "cell_type": "markdown",
      "source": "**Problem 1: Logistic Regression (20 points)**\n\nYou are given a real life research data of partipants where the impact of certain life habits and individual attributes on the probability of heart disease is studied. \n*   Sex: male or female\n*   Age: Age of the patient\n*   Cigs Per Day: average number of cigarettes that the person smoked in a day\n* Medication: whether or not the patient was on blood pressure medication\n* Cholestrol: total cholesterol level\n* BP: systolic blood pressure \n* BMI: Body Mass Index \n* Glucose: glucose level \n* 10HDR (ten year Heart disease risk, this is your output variable)",
      "metadata": {
        "id": "dx99DlP17Ho0"
      }
    },
    {
      "cell_type": "markdown",
      "source": "(a) Build a logistic regression model to predict the risk of heart disease <br>",
      "metadata": {}
    },
    {
      "cell_type": "code",
      "source": "from sklearn.model_selection import train_test_split\nfrom sklearn.linear_model import LogisticRegression\nfrom sklearn.metrics import classification_report, accuracy_score\nimport pandas as pd\n\n# Load the data\ndata = pd.read_csv(\"heart_disease_risk.csv\")\n\n# Fill missing values with the median\ndata_filled = data.fillna(data.median())\n\n# Define features and target\nX = data_filled.drop(columns=[\"10HDR\"])\ny = data_filled[\"10HDR\"]\n\n# Split into training and test sets (80% train, 20% test)\nX_train, X_test, y_train, y_test = train_test_split(X, y, test_size=0.2, random_state=42)\n\n# Create and train the logistic regression model\nmodel_all_features = LogisticRegression(max_iter=1000, random_state=42)\nmodel_all_features.fit(X_train, y_train)\n\n# Make predictions and evaluate the model\ny_pred_all = model_all_features.predict(X_test)\naccuracy_all = accuracy_score(y_test, y_pred_all)\nreport_all = classification_report(y_test, y_pred_all)\n\nprint(f\"Accuracy: {accuracy_all}\")\nprint(\"Classification Report:\")\nprint(report_all)\n",
      "metadata": {
        "id": "7w86yjwQ6q7U",
        "trusted": true
      },
      "outputs": [
        {
          "name": "stdout",
          "output_type": "stream",
          "text": "Accuracy: 0.8573113207547169\nClassification Report:\n              precision    recall  f1-score   support\n\n           0       0.86      0.99      0.92       725\n           1       0.60      0.05      0.09       123\n\n    accuracy                           0.86       848\n   macro avg       0.73      0.52      0.51       848\nweighted avg       0.82      0.86      0.80       848\n\n"
        }
      ],
      "execution_count": 1
    },
    {
      "cell_type": "markdown",
      "source": "(b) Only select a subset of features i.e blood pressure, cholestrol level, glucose level, BMI, and average cigarettes consumed in a day and build a new model <br>",
      "metadata": {}
    },
    {
      "cell_type": "code",
      "source": "# Select specific features\nselected_features = [\"BP\", \"Cholestrol\", \"glucose\", \"BMI\", \"Average_cigs\"]\nX_selected = data_filled[selected_features]\n\n# Split into training and test sets (80% train, 20% test)\nX_train_sel, X_test_sel, y_train_sel, y_test_sel = train_test_split(X_selected, y, test_size=0.2, random_state=42)\n\n# Create and train the logistic regression model\nmodel_selected_features = LogisticRegression(max_iter=1000, random_state=42)\nmodel_selected_features.fit(X_train_sel, y_train_sel)\n\n# Make predictions and evaluate the model\ny_pred_sel = model_selected_features.predict(X_test_sel)\naccuracy_sel = accuracy_score(y_test_sel, y_pred_sel)\nreport_sel = classification_report(y_test_sel, y_pred_sel)\n\nprint(f\"Accuracy with selected features: {accuracy_sel}\")\nprint(\"Classification Report with selected features:\")\nprint(report_sel)\n",
      "metadata": {
        "trusted": true
      },
      "outputs": [
        {
          "name": "stdout",
          "output_type": "stream",
          "text": "Accuracy with selected features: 0.8561320754716981\nClassification Report with selected features:\n              precision    recall  f1-score   support\n\n           0       0.86      1.00      0.92       725\n           1       0.57      0.03      0.06       123\n\n    accuracy                           0.86       848\n   macro avg       0.71      0.51      0.49       848\nweighted avg       0.82      0.86      0.80       848\n\n"
        }
      ],
      "execution_count": 2
    },
    {
      "cell_type": "markdown",
      "source": "(c) Next, predict the probability of heart disease of an individual with  blood pressure of 140, a BMI of 30,  a cholesterol level of 300 , a glucose level of 120, smoking 10 cigarettes per day <br>",
      "metadata": {}
    },
    {
      "cell_type": "code",
      "source": "# Define the individual data\nindividual = pd.DataFrame({\n    \"BP\": [140],\n    \"Cholestrol\": [300],\n    \"glucose\": [120],\n    \"BMI\": [30],\n    \"Average_cigs\": [10]\n})\n\n# Predict the probability of heart disease\nrisk_probability = model_selected_features.predict_proba(individual)[0, 1]  # Probability of heart disease\nprint(f\"Predicted Probability of Heart Disease: {risk_probability:.2%}\")\n",
      "metadata": {
        "trusted": true
      },
      "outputs": [
        {
          "name": "stdout",
          "output_type": "stream",
          "text": "Predicted Probability of Heart Disease: 24.42%\n"
        }
      ],
      "execution_count": 3
    },
    {
      "cell_type": "markdown",
      "source": "**Problem 2: Class Exercise Submission (20 points)**\nSubmit the class exercise done in Lecture 8 on implementing gradient descent.  Plot first 10 steps of the gradient descent in the form of the corresponding linear regression lines.",
      "metadata": {
        "id": "RBDmZIsR9qdP"
      }
    },
    {
      "cell_type": "markdown",
      "source": "#### (1) Import packages",
      "metadata": {}
    },
    {
      "cell_type": "code",
      "source": "import numpy as np\nimport matplotlib.pyplot as plt\nimport pandas as pd\nfrom sklearn import datasets, linear_model\nfrom sklearn.datasets import load_iris\nfrom sklearn.datasets import make_regression\nfrom sklearn.metrics import mean_squared_error, r2_score\nfrom sklearn.model_selection import train_test_split\nfrom sklearn.preprocessing import add_dummy_feature\nfrom sklearn.linear_model import LinearRegression",
      "metadata": {
        "id": "uuB-kWFm-Z0a",
        "trusted": true
      },
      "outputs": [
        {
          "name": "stderr",
          "output_type": "stream",
          "text": "Matplotlib is building the font cache; this may take a moment.\n"
        }
      ],
      "execution_count": 4
    },
    {
      "cell_type": "markdown",
      "source": "#### (2) Generate X, y vectors",
      "metadata": {}
    },
    {
      "cell_type": "code",
      "source": "# generate X, y vectors\nnp.random.seed(42)  # to make this code example reproducible\nm = 100  # number of instances\nX = np.random.rand(m, 1)  # column vector\ny =  1+ 2 * X + np.random.randn(m, 1)  # column vector",
      "metadata": {
        "trusted": true
      },
      "outputs": [],
      "execution_count": 5
    },
    {
      "cell_type": "markdown",
      "source": "#### (3) Linear Regression",
      "metadata": {}
    },
    {
      "cell_type": "code",
      "source": "# Add a constant x0 = 1 to facilitate the intercept calculation ([X] --> [1, X])\nX_d = add_dummy_feature(X, value=1.0)\n\n#fit a linear regression model and print the coefficients (look at sklearn documentation)\nreg = LinearRegression().fit(X, y)\n\nprint(f\"intercept: {reg.intercept_[0]}\")\nprint(f\"slope: {reg.coef_[0][0]}\")\n",
      "metadata": {
        "trusted": true
      },
      "outputs": [
        {
          "name": "stdout",
          "output_type": "stream",
          "text": "intercept: 1.2150961575467478\nslope: 1.5402267728769683\n"
        }
      ],
      "execution_count": 6
    },
    {
      "cell_type": "markdown",
      "source": "#### (4) Least square",
      "metadata": {}
    },
    {
      "cell_type": "code",
      "source": "### use least squares way to calculate your best parameters\n\n# Calculate \"theta_best\" using least squares formula\ntheta_best = np.linalg.inv(X_d.T.dot(X_d)).dot(X_d.T).dot(y)\n# print theta_best\nprint(\"theta_best (intercept and slope):\", theta_best.ravel())",
      "metadata": {
        "trusted": true
      },
      "outputs": [
        {
          "name": "stdout",
          "output_type": "stream",
          "text": "theta_best (intercept and slope): [1.21509616 1.54022677]\n"
        }
      ],
      "execution_count": 7
    },
    {
      "cell_type": "markdown",
      "source": "#### (5) Prediction and plot (use linear regression result)",
      "metadata": {}
    },
    {
      "cell_type": "code",
      "source": "# Create a 2D array for new data (e.g., [[0], [1]])\nX_new = np.array ([[0],[1]])\n\n# Make a prediction (using the linear regression model `reg` from before)\npredictions = reg.predict(X_new)\n\n# plot the predictions and your data points\ny_pred = reg.predict(X)\nplt.scatter(X_new, predictions, label='prediction points', color='blue')\nplt.scatter(X, y, label='data point', color='orange')\nplt.plot(X, y_pred, label='regression line', color='green')\nplt.xlabel('X')\nplt.ylabel('y')\n\nplt.legend()\nplt.show()",
      "metadata": {
        "trusted": true
      },
      "outputs": [
        {
          "output_type": "display_data",
          "data": {
            "text/plain": "<Figure size 640x480 with 1 Axes>",
            "image/png": "[encoded data removed]"
          },
          "metadata": {}
        }
      ],
      "execution_count": 8
    },
    {
      "cell_type": "markdown",
      "source": "#### (6) Gradient descent",
      "metadata": {}
    },
    {
      "cell_type": "code",
      "source": "# Gradient descent\nr = 0.1  # learning rate\nn_epochs = 1000\nnp.random.seed(42)\n# randomly initialized model parameters\ntheta_random = np.array ([[1],[2]])\ntheta = theta_random\n\n\nfor epoch in range(n_epochs):\n    gradients = 2 / X_d.shape[0] * X_d.T.dot(X_d.dot(theta) - y)  # Calculate the gradient\n    theta = theta - r * gradients  # renew theta values in each epoch\n    # print out the first 10 epoch result as requested\n    if epoch < 10:\n        print(f\"Epoch {epoch+1}: theta = {theta.ravel()}\")\n\n#print theta after 100 epochs gradient descent\nprint(\"Epoch 100: theta = \", theta.ravel())",
      "metadata": {
        "trusted": true
      },
      "outputs": [
        {
          "name": "stdout",
          "output_type": "stream",
          "text": "Epoch 1: theta = [0.99978393 1.99184181]\nEpoch 2: theta = [1.00037824 1.98420759]\nEpoch 3: theta = [1.00157157 1.9769888 ]\nEpoch 4: theta = [1.00320507 1.97010347]\nEpoch 5: theta = [1.00515934 1.9634896 ]\nEpoch 6: theta = [1.0073447  1.95710028]\nEpoch 7: theta = [1.00969381 1.95089992]\nEpoch 8: theta = [1.01215616 1.94486145]\nEpoch 9: theta = [1.01469387 1.93896422]\nEpoch 10: theta = [1.01727859 1.93319244]\nEpoch 100: theta =  [1.21509601 1.54022706]\n"
        }
      ],
      "execution_count": 9
    }
  ]
}