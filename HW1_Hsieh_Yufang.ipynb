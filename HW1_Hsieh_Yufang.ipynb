{
  "metadata": {
    "kernelspec": {
      "name": "python",
      "display_name": "Python (Pyodide)",
      "language": "python"
    },
    "language_info": {
      "codemirror_mode": {
        "name": "python",
        "version": 3
      },
      "file_extension": ".py",
      "mimetype": "text/x-python",
      "name": "python",
      "nbconvert_exporter": "python",
      "pygments_lexer": "ipython3",
      "version": "3.8"
    }
  },
  "nbformat_minor": 5,
  "nbformat": 4,
  "cells": [
    {
      "id": "31248c73-4237-4825-90dc-6868e86f5da4",
      "cell_type": "markdown",
      "source": "## HW 1 ( 30 points)",
      "metadata": {}
    },
    {
      "id": "78957f83-fa97-4d36-ae0b-2f5331f91fc7",
      "cell_type": "markdown",
      "source": "#### Submit your homework as a. ipynb file. Use the format 'HW1_LastName_FirstName.ipynb'. If there are no comments/markdown describing what you have done, your work will not be graded. Follow the code of conduct. ",
      "metadata": {}
    },
    {
      "id": "5e3c0416-838e-4b72-8851-92d9e788e810",
      "cell_type": "markdown",
      "source": "### Problem 1: Data Extraction and Modification (10)",
      "metadata": {}
    },
    {
      "id": "8afb4315-0c70-4aa5-aaca-db1b615a927e",
      "cell_type": "markdown",
      "source": "Write a Python function `extract_parameter` that takes the `unit_operations_data` dictionary, and outputs the name of the inputted unit operation, its desired feature name and value.  It will take a `unit_name` (string), a `parameter_name` (string), and an `index` (integer) as inputs and return a string in the format: \"`{unit_name}_{parameter_name}_{value}`\". If the `unit_name` or `parameter_name` is not found, or the `index` is out of range, the function should return \"Invalid input\".\n",
      "metadata": {}
    },
    {
      "id": "bc79a14c-736d-43d0-99e9-15305807ae70",
      "cell_type": "code",
      "source": "unit_operations_data = {\n    \"distillation_column\": {\"temperature\": [150, 160, 170], \"pressure\": [2, 2.5, 3], \"flow_rate\": [100, 110, 120]},\n    \"reactor\": {\"temperature\": [250, 260, 270], \"pressure\": [5, 5.5, 6], \"residence_time\": [10, 12, 14]},\n    \"heat_exchanger\": {\"temperature_in\": [80, 90, 100], \"temperature_out\": [50, 60, 70], \"flow_rate\": [200, 210, 220]}\n}",
      "metadata": {
        "trusted": true
      },
      "outputs": [],
      "execution_count": 12
    },
    {
      "id": "48d896ad-3ea6-4e10-bec4-087ad56cb070",
      "cell_type": "code",
      "source": "# define the \"extract_parameter\" function\ndef extract_parameter(unit_name, parameter_name, index):\n    # check if the index input is integer and is within range\n    if index in [0, 1, 2]:\n        # get the value from the dictionary\n        value = str(unit_operations_data[unit_name][parameter_name][index])\n        # return the desired output {unit_name}_{parameter_name}_{value}\n        return unit_name + \"_\" + parameter_name + \"_\" + value\n    else:\n        # if the index is out of range, return \"Invalid input\"\n        return \"Invalid input\"\n        \n    ",
      "metadata": {
        "trusted": true
      },
      "outputs": [],
      "execution_count": 17
    },
    {
      "id": "c61f98f1-8c13-402d-8b5c-99978b12c660",
      "cell_type": "markdown",
      "source": "Example: `extract_parameter(\"distillation_column\", \"temperature\", 1)` should return \"distillation_column_temperature_160\". Hint: Look up try and except method for error handling in Python. ",
      "metadata": {}
    },
    {
      "id": "4d734649-ccc1-448c-83d6-36cb62f6f934",
      "cell_type": "code",
      "source": "#Test the result\nprint(extract_parameter(\"distillation_column\", \"temperature\", 1))",
      "metadata": {
        "trusted": true
      },
      "outputs": [
        {
          "name": "stdout",
          "output_type": "stream",
          "text": "distillation_column_temperature_160\n"
        }
      ],
      "execution_count": 83
    },
    {
      "id": "1efd46aa-7454-41f8-927c-f3cecd7d5d2e",
      "cell_type": "markdown",
      "source": "### Problem 2: Chemical Solution Calculator (10 points)",
      "metadata": {
        "tags": []
      }
    },
    {
      "id": "2b307912-0fe6-45c9-b3b9-5a16057e9aac",
      "cell_type": "markdown",
      "source": "You are working in a lab preparing chemical solutions. You have a dictionary of chemicals\nwith their molecular weights and a list of required solutions. ",
      "metadata": {}
    },
    {
      "id": "9eafa086-265c-4f38-976d-e71d5ec3e8b2",
      "cell_type": "code",
      "source": "molecular_weights = {\n    'NaCl': 58.44,\n    'H2SO4': 98.079,\n    'NaOH': 40.00,\n    'KMnO4': 158.034,\n    'CH3COOH': 60.052\n}",
      "metadata": {
        "trusted": true
      },
      "outputs": [],
      "execution_count": 84
    },
    {
      "id": "72313142-ae9d-4947-a893-5a9606536ba8",
      "cell_type": "code",
      "source": "solutions_needed = ['NaCl-0.5M', 'H2SO4-0.25M', 'NaOH-1M', 'KCl-0.1M', 'CH3COOH-0.3M']",
      "metadata": {
        "trusted": true
      },
      "outputs": [],
      "execution_count": 85
    },
    {
      "id": "53bb711c-f5ff-4fde-8b35-34893b65ffb8",
      "cell_type": "markdown",
      "source": "Create a function ```calculate_solution_weights(molecular_weights, solutions_needed)``` that takes these inputs and returns a modified list where:\n   - If the chemical exists in molecular_weights, replace the entry with:\n     'chemical_formula-concentration-weight'\n     where weight represents the weight of the compound in 1 litre solution in grams.\n\n     `weight = molecular_weight * concentration`\n   - If the chemical doesn't exist in molecular_weights, replace with 'unknown'\n   \nExample output:\n`['NaCl-0.5M-29.22g', 'H2SO4-0.25M-24.52g', 'NaOH-1M-40.00g', 'unknown', 'CH3COOH-0.3M-18.02g']`\n",
      "metadata": {}
    },
    {
      "id": "be23c88c-be69-4ba6-ac28-bacd4d854a63",
      "cell_type": "code",
      "source": "# define the function to calculate solution weight\ndef calculate_solution_weights(molecular_weights, solutions_needed):\n\n    # Step 1: rearrange the solutions_needed list into column1 = molecule name, column 2 = molecular_weights\n    ### Delete the last character \"M\"\n    solution_rearrange = [item[:-1] for item in solutions_needed]\n    ### split the terms by \"-\"\n    solution_rearrange = [item.split(\"-\") for item in solution_rearrange]\n\n    \n    # Step 2: calculate total weight\n    ### Create a empty list (and add output items later)\n    output_list = []\n    ### Check every items in the list\n    for i in range(len(solution_rearrange)):\n        ### Check if the name in the \"molecular_weights\" dict or not\n        \n        ### if yes, calculate the total weight and append the result into output_list with specified format\n        if solution_rearrange[i][0] in molecular_weights.keys():\n            concentration = float(solution_rearrange[i][1])\n            unit_weight = molecular_weights[solution_rearrange[i][0]]\n            total_weight = unit_weight * concentration\n            output_list.append(solution_rearrange[i][0] + \"-\" + solution_rearrange[i][1] + \"M-\" + f\"{total_weight:.2f}\" + \"g\")\n        \n        ### if no, append \"unknown\"\n        else:\n            output_list.append(\"unknown\")\n\n\n    return output_list\n    \n",
      "metadata": {
        "trusted": true
      },
      "outputs": [],
      "execution_count": 88
    },
    {
      "id": "b371847a-8c00-4ea5-8608-1a7a5b1b90f1",
      "cell_type": "code",
      "source": "# Test the result\ncalculate_solution_weights(molecular_weights, solutions_needed)",
      "metadata": {
        "trusted": true
      },
      "outputs": [
        {
          "execution_count": 89,
          "output_type": "execute_result",
          "data": {
            "text/plain": "['NaCl-0.5M-29.22g',\n 'H2SO4-0.25M-24.52g',\n 'NaOH-1M-40.00g',\n 'unknown',\n 'CH3COOH-0.3M-18.02g']"
          },
          "metadata": {}
        }
      ],
      "execution_count": 89
    },
    {
      "id": "29ebc886-5b12-4e9a-ab78-55e9ff0319bc",
      "cell_type": "markdown",
      "source": "### Problem 3: Git Version Control (10 Points)",
      "metadata": {}
    },
    {
      "id": "8ea117aa-d244-4972-97a0-db182a94b243",
      "cell_type": "markdown",
      "source": "\nCreate a public Git repository for this assignment on GitHub.\n\n1. Clone this repository to your local computer (connect your github repo to your local repo if needed).\n2. Make a Python file containing extract_parameter function. Add this file to the git repo and commit.\n3. Make a Python file containing calculate_solution_weights function. Add this file to the git repo and commit. Write meaningful messages while committing.\n4. Add a file with name 'README.md' that briefly explains your approach and how to run your Python files.\n5. dd 'README.md' file to the repo and commit.\n6. Push the repo to github.\n7. Submit the link to your public github repo.",
      "metadata": {}
    },
    {
      "id": "21ca89f0-9772-4aad-86f8-8745dc27405d",
      "cell_type": "code",
      "source": "https://github.com/yufanghs/ChemE545_HW.git",
      "metadata": {
        "trusted": true
      },
      "outputs": [
        {
          "ename": "<class 'SyntaxError'>",
          "evalue": "invalid syntax (<ipython-input-90-553d30789394>, line 1)",
          "traceback": [
            "\u001b[0;36m  Cell \u001b[0;32mIn[90], line 1\u001b[0;36m\u001b[0m\n\u001b[0;31m    https://github.com/yufanghs/ChemE545_HW.git\u001b[0m\n\u001b[0m          ^\u001b[0m\n\u001b[0;31mSyntaxError\u001b[0m\u001b[0;31m:\u001b[0m invalid syntax\n"
          ],
          "output_type": "error"
        }
      ],
      "execution_count": 90
    },
    {
      "id": "ead021e4-1bbb-462c-8f6c-5b165c34b8a1",
      "cell_type": "code",
      "source": "",
      "metadata": {
        "trusted": true
      },
      "outputs": [],
      "execution_count": null
    }
  ]
}